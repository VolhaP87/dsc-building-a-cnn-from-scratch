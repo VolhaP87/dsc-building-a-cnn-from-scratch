{
 "cells": [
  {
   "cell_type": "markdown",
   "metadata": {},
   "source": [
    "# Building a CNN from Scratch - Lab\n",
    "\n",
    "## Introduction\n",
    "\n",
    "Now that you have background knowledge regarding how CNNs work and how to build them using Keras, its time to practice those skills a little more independently in order to build a CNN on your own to solve a image recognition problem. In this lab, you'll practice building an image classifier from start to finish using a CNN.  \n",
    "\n",
    "## Objectives\n",
    "\n",
    "In this lab you will: \n",
    "\n",
    "- Load images from a hierarchical file structure using an image datagenerator \n",
    "- Apply data augmentation to image files before training a neural network \n",
    "- Build a CNN using Keras \n",
    "- Visualize and evaluate the performance of CNN models \n",
    "\n",
    "## Loading the Images\n",
    "\n",
    "The data for this lab are a bunch of pictures of cats and dogs, and our task is to correctly classify a picture as one or the other. The [original dataset](https://www.kaggle.com/c/dogs-vs-cats) is from Kaggle. We have downsampled this dataset in order to reduce training time for you when you design and fit your model to the data. ⏰ It is anticipated that this process will take approximately one hour to run on a standard machine, although times will vary depending on your particular computer and set up. At the end of this lab, you are welcome to try training on the complete dataset and observe the impact on the model's overall accuracy. \n",
    "\n",
    "You can find the initial downsampled dataset in a subdirectory, **cats_dogs_downsampled**, of this repository. "
   ]
  },
  {
   "cell_type": "code",
   "execution_count": 1,
   "metadata": {},
   "outputs": [],
   "source": [
    "import os \n",
    "os.environ['KMP_DUPLICATE_LIB_OK']='True'"
   ]
  },
  {
   "cell_type": "code",
   "execution_count": 2,
   "metadata": {},
   "outputs": [],
   "source": [
    "# Load the images; be sure to also preprocess these into tensors \n",
    "\n",
    "train_dir = 'cats_dogs_downsampled/train'\n",
    "validation_dir = 'cats_dogs_downsampled/val/'\n",
    "test_dir = 'cats_dogs_downsampled/test/' \n"
   ]
  },
  {
   "cell_type": "markdown",
   "metadata": {},
   "source": [
    "## Designing the Model\n",
    "\n",
    "Now it's time to design your CNN using Keras! Remember a few things when doing this: \n",
    "\n",
    "- You should alternate convolutional and pooling layers\n",
    "- You should have later layers have a larger number of parameters in order to detect more abstract patterns\n",
    "- Add some final dense layers to add a classifier to the convolutional base \n",
    "- Compile this model "
   ]
  },
  {
   "cell_type": "code",
   "execution_count": 3,
   "metadata": {},
   "outputs": [],
   "source": [
    "# Your code here; design and compile the model\n",
    "from keras.preprocessing.image import ImageDataGenerator\n",
    "import datetime\n",
    "\n",
    "original_start = datetime.datetime.now()\n",
    "start = datetime.datetime.now()"
   ]
  },
  {
   "cell_type": "code",
   "execution_count": 4,
   "metadata": {},
   "outputs": [
    {
     "name": "stdout",
     "output_type": "stream",
     "text": [
      "Found 2140 images belonging to 2 classes.\n",
      "Found 420 images belonging to 2 classes.\n"
     ]
    }
   ],
   "source": [
    "train_datagen = ImageDataGenerator(rescale=1./255)\n",
    "val_datagen = ImageDataGenerator(rescale=1./255)\n",
    "\n",
    "train_generator = train_datagen.flow_from_directory(\n",
    "        # This is the target directory\n",
    "        train_dir,\n",
    "        # All images will be resized to 150x150\n",
    "        target_size=(150, 150),\n",
    "        batch_size=20,\n",
    "        # Since we use binary_crossentropy loss, we need binary labels\n",
    "        class_mode='binary')\n",
    "\n",
    "validation_generator = val_datagen.flow_from_directory(validation_dir,\n",
    "                                                        target_size=(150, 150),\n",
    "                                                        batch_size=20,\n",
    "                                                        class_mode='binary')\n"
   ]
  },
  {
   "cell_type": "code",
   "execution_count": 5,
   "metadata": {},
   "outputs": [
    {
     "name": "stdout",
     "output_type": "stream",
     "text": [
      "Metal device set to: Apple M1\n"
     ]
    },
    {
     "name": "stderr",
     "output_type": "stream",
     "text": [
      "2022-08-16 15:26:39.272026: I tensorflow/core/common_runtime/pluggable_device/pluggable_device_factory.cc:305] Could not identify NUMA node of platform GPU ID 0, defaulting to 0. Your kernel may not have been built with NUMA support.\n",
      "2022-08-16 15:26:39.272295: I tensorflow/core/common_runtime/pluggable_device/pluggable_device_factory.cc:271] Created TensorFlow device (/job:localhost/replica:0/task:0/device:GPU:0 with 0 MB memory) -> physical PluggableDevice (device: 0, name: METAL, pci bus id: <undefined>)\n"
     ]
    }
   ],
   "source": [
    "from keras import layers\n",
    "from keras import models\n",
    "\n",
    "model = models.Sequential()\n",
    "model.add(layers.Conv2D(32, (3, 3), activation='relu',\n",
    "                        input_shape=(150, 150, 3)))\n",
    "model.add(layers.MaxPooling2D((2, 2)))\n",
    "model.add(layers.Conv2D(64, (3, 3), activation='relu'))\n",
    "model.add(layers.MaxPooling2D((2, 2)))\n",
    "model.add(layers.Conv2D(128, (3, 3), activation='relu'))\n",
    "model.add(layers.MaxPooling2D((2, 2)))\n",
    "model.add(layers.Conv2D(128, (3, 3), activation='relu'))\n",
    "model.add(layers.MaxPooling2D((2, 2)))\n",
    "model.add(layers.Flatten())\n",
    "model.add(layers.Dense(512, activation='relu'))\n",
    "model.add(layers.Dense(1, activation='sigmoid'))\n"
   ]
  },
  {
   "cell_type": "code",
   "execution_count": 7,
   "metadata": {},
   "outputs": [],
   "source": [
    "from keras import optimizers\n",
    "\n",
    "model.compile(loss='binary_crossentropy',\n",
    "              optimizer=optimizers.RMSprop(learning_rate=1e-4),\n",
    "              metrics=['acc'])"
   ]
  },
  {
   "cell_type": "markdown",
   "metadata": {},
   "source": [
    "## Training and Evaluating the Model\n",
    "\n",
    "Remember that training deep networks is resource intensive: depending on the size of the data, even a CNN with 3-4 successive convolutional and pooling layers is apt to take a hours to train on a high end laptop. Using 30 epochs and 8 layers (alternating between convolutional and pooling), our model took about 40 minutes to run on a year old macbook pro.\n",
    "\n",
    "\n",
    "If you are concerned with runtime, you may want to set your model to run the training epochs overnight.  \n",
    "\n",
    "**If you are going to run this process overnight, be sure to also script code for the following questions concerning data augmentation. Check your code twice (or more) and then set the notebook to run all, or something equivalent to have them train overnight.** "
   ]
  },
  {
   "cell_type": "code",
   "execution_count": 8,
   "metadata": {},
   "outputs": [
    {
     "name": "stdout",
     "output_type": "stream",
     "text": [
      "Epoch 1/30\n"
     ]
    },
    {
     "name": "stderr",
     "output_type": "stream",
     "text": [
      "2022-08-16 15:27:53.514095: W tensorflow/core/platform/profile_utils/cpu_utils.cc:128] Failed to get CPU frequency: 0 Hz\n",
      "2022-08-16 15:27:53.922552: I tensorflow/core/grappler/optimizers/custom_graph_optimizer_registry.cc:113] Plugin optimizer for device_type GPU is enabled.\n"
     ]
    },
    {
     "name": "stdout",
     "output_type": "stream",
     "text": [
      "100/100 [==============================] - ETA: 0s - loss: 0.6848 - acc: 0.5455"
     ]
    },
    {
     "name": "stderr",
     "output_type": "stream",
     "text": [
      "2022-08-16 15:28:01.154921: I tensorflow/core/grappler/optimizers/custom_graph_optimizer_registry.cc:113] Plugin optimizer for device_type GPU is enabled.\n"
     ]
    },
    {
     "name": "stdout",
     "output_type": "stream",
     "text": [
      "100/100 [==============================] - 8s 68ms/step - loss: 0.6848 - acc: 0.5455 - val_loss: 0.6715 - val_acc: 0.6300\n",
      "Epoch 2/30\n",
      "100/100 [==============================] - 6s 64ms/step - loss: 0.6604 - acc: 0.5865 - val_loss: 0.6392 - val_acc: 0.6475\n",
      "Epoch 3/30\n",
      "100/100 [==============================] - 6s 64ms/step - loss: 0.6222 - acc: 0.6490 - val_loss: 0.6206 - val_acc: 0.6150\n",
      "Epoch 4/30\n",
      "100/100 [==============================] - 6s 64ms/step - loss: 0.5754 - acc: 0.6995 - val_loss: 0.5625 - val_acc: 0.7300\n",
      "Epoch 5/30\n",
      "100/100 [==============================] - 6s 64ms/step - loss: 0.5408 - acc: 0.7210 - val_loss: 0.5252 - val_acc: 0.7400\n",
      "Epoch 6/30\n",
      "100/100 [==============================] - 6s 64ms/step - loss: 0.5129 - acc: 0.7365 - val_loss: 0.5279 - val_acc: 0.7125\n",
      "Epoch 7/30\n",
      "100/100 [==============================] - 7s 65ms/step - loss: 0.4908 - acc: 0.7550 - val_loss: 0.5270 - val_acc: 0.7200\n",
      "Epoch 8/30\n",
      "100/100 [==============================] - 6s 64ms/step - loss: 0.4678 - acc: 0.7810 - val_loss: 0.5023 - val_acc: 0.7325\n",
      "Epoch 9/30\n",
      "100/100 [==============================] - 6s 64ms/step - loss: 0.4417 - acc: 0.7965 - val_loss: 0.5032 - val_acc: 0.7450\n",
      "Epoch 10/30\n",
      "100/100 [==============================] - 6s 64ms/step - loss: 0.4048 - acc: 0.8080 - val_loss: 0.4774 - val_acc: 0.7600\n",
      "Epoch 11/30\n",
      "100/100 [==============================] - 6s 64ms/step - loss: 0.3837 - acc: 0.8335 - val_loss: 0.4696 - val_acc: 0.7575\n",
      "Epoch 12/30\n",
      "100/100 [==============================] - 6s 64ms/step - loss: 0.3631 - acc: 0.8455 - val_loss: 0.4760 - val_acc: 0.7650\n",
      "Epoch 13/30\n",
      "100/100 [==============================] - 6s 65ms/step - loss: 0.3408 - acc: 0.8520 - val_loss: 0.4749 - val_acc: 0.7550\n",
      "Epoch 14/30\n",
      "100/100 [==============================] - 6s 64ms/step - loss: 0.3208 - acc: 0.8665 - val_loss: 0.5135 - val_acc: 0.7525\n",
      "Epoch 15/30\n",
      "100/100 [==============================] - 6s 64ms/step - loss: 0.2987 - acc: 0.8750 - val_loss: 0.4985 - val_acc: 0.7750\n",
      "Epoch 16/30\n",
      "100/100 [==============================] - 6s 65ms/step - loss: 0.2761 - acc: 0.8795 - val_loss: 0.5100 - val_acc: 0.7600\n",
      "Epoch 17/30\n",
      "100/100 [==============================] - 6s 65ms/step - loss: 0.2513 - acc: 0.8990 - val_loss: 0.5407 - val_acc: 0.7725\n",
      "Epoch 18/30\n",
      "100/100 [==============================] - 6s 65ms/step - loss: 0.2255 - acc: 0.9115 - val_loss: 0.5810 - val_acc: 0.7575\n",
      "Epoch 19/30\n",
      "100/100 [==============================] - 6s 64ms/step - loss: 0.2159 - acc: 0.9145 - val_loss: 0.5369 - val_acc: 0.7700\n",
      "Epoch 20/30\n",
      "100/100 [==============================] - 6s 64ms/step - loss: 0.1942 - acc: 0.9235 - val_loss: 0.5638 - val_acc: 0.7675\n",
      "Epoch 21/30\n",
      "100/100 [==============================] - 6s 64ms/step - loss: 0.1678 - acc: 0.9340 - val_loss: 0.5642 - val_acc: 0.7875\n",
      "Epoch 22/30\n",
      "100/100 [==============================] - 6s 64ms/step - loss: 0.1452 - acc: 0.9480 - val_loss: 0.6635 - val_acc: 0.7675\n",
      "Epoch 23/30\n",
      "100/100 [==============================] - 6s 64ms/step - loss: 0.1392 - acc: 0.9505 - val_loss: 0.7280 - val_acc: 0.7550\n",
      "Epoch 24/30\n",
      "100/100 [==============================] - 6s 64ms/step - loss: 0.1250 - acc: 0.9565 - val_loss: 0.7948 - val_acc: 0.7275\n",
      "Epoch 25/30\n",
      "100/100 [==============================] - 6s 65ms/step - loss: 0.1007 - acc: 0.9710 - val_loss: 0.6678 - val_acc: 0.7700\n",
      "Epoch 26/30\n",
      "100/100 [==============================] - 7s 65ms/step - loss: 0.0926 - acc: 0.9725 - val_loss: 0.7315 - val_acc: 0.7525\n",
      "Epoch 27/30\n",
      "100/100 [==============================] - 7s 65ms/step - loss: 0.0848 - acc: 0.9710 - val_loss: 0.7385 - val_acc: 0.7650\n",
      "Epoch 28/30\n",
      "100/100 [==============================] - 7s 65ms/step - loss: 0.0653 - acc: 0.9860 - val_loss: 0.7785 - val_acc: 0.7500\n",
      "Epoch 29/30\n",
      "100/100 [==============================] - 7s 65ms/step - loss: 0.0621 - acc: 0.9855 - val_loss: 0.7933 - val_acc: 0.7675\n",
      "Epoch 30/30\n",
      "100/100 [==============================] - 7s 65ms/step - loss: 0.0490 - acc: 0.9840 - val_loss: 0.8890 - val_acc: 0.7600\n"
     ]
    }
   ],
   "source": [
    "# Set the model to train \n",
    "# ⏰ This cell may take several minutes to run \n",
    "history = model.fit(train_generator, \n",
    "                              steps_per_epoch=100, \n",
    "                              epochs=30, \n",
    "                              validation_data=validation_generator, \n",
    "                              validation_steps=20)"
   ]
  },
  {
   "cell_type": "code",
   "execution_count": 9,
   "metadata": {},
   "outputs": [
    {
     "data": {
      "image/png": "[encoded data removed]",
      "text/plain": [
       "<Figure size 432x288 with 1 Axes>"
      ]
     },
     "metadata": {
      "needs_background": "light"
     },
     "output_type": "display_data"
    },
    {
     "data": {
      "image/png": "[encoded data removed]",
      "text/plain": [
       "<Figure size 432x288 with 1 Axes>"
      ]
     },
     "metadata": {
      "needs_background": "light"
     },
     "output_type": "display_data"
    }
   ],
   "source": [
    "# Plot history\n",
    "import matplotlib.pyplot as plt\n",
    "%matplotlib inline\n",
    "acc = history.history['acc']\n",
    "val_acc = history.history['val_acc']\n",
    "loss = history.history['loss']\n",
    "val_loss = history.history['val_loss']\n",
    "epochs = range(len(acc))\n",
    "plt.plot(epochs, acc, 'bo', label='Training acc')\n",
    "plt.plot(epochs, val_acc, 'b', label='Validation acc')\n",
    "plt.title('Training and validation accuracy')\n",
    "plt.legend()\n",
    "plt.figure()\n",
    "plt.plot(epochs, loss, 'bo', label='Training loss')\n",
    "plt.plot(epochs, val_loss, 'b', label='Validation loss')\n",
    "plt.title('Training and validation loss')\n",
    "plt.legend()\n",
    "plt.show()"
   ]
  },
  {
   "cell_type": "code",
   "execution_count": 10,
   "metadata": {},
   "outputs": [
    {
     "name": "stdout",
     "output_type": "stream",
     "text": [
      "Training took a total of 0:08:27.490149\n"
     ]
    }
   ],
   "source": [
    "end = datetime.datetime.now()\n",
    "elapsed = end - start\n",
    "print('Training took a total of {}'.format(elapsed))"
   ]
  },
  {
   "cell_type": "markdown",
   "metadata": {},
   "source": [
    "## Save the Model"
   ]
  },
  {
   "cell_type": "code",
   "execution_count": 11,
   "metadata": {},
   "outputs": [],
   "source": [
    "# Your code here; save the model for future reference \n",
    "model.save('cats_dogs_downsampled_data.h5')"
   ]
  },
  {
   "cell_type": "markdown",
   "metadata": {},
   "source": [
    "## Data Augmentation\n",
    "\n",
    "Recall that data augmentation is typically always a necessary step when using a small dataset as this one which you have been provided. As such, if you haven't already, implement a data augmentation setup.\n",
    "\n",
    "**Warning: ⏰ This process took nearly 4 hours to run on a relatively new macbook pro. As such, it is recommended that you simply code the setup and compare to the solution branch, or set the process to run overnight if you do choose to actually run the code.** "
   ]
  },
  {
   "cell_type": "code",
   "execution_count": 12,
   "metadata": {},
   "outputs": [
    {
     "name": "stdout",
     "output_type": "stream",
     "text": [
      "Found 2140 images belonging to 2 classes.\n",
      "Epoch 1/30\n",
      "100/100 [==============================] - 7s 74ms/step - loss: 0.7129 - acc: 0.6835 - val_loss: 0.5074 - val_acc: 0.7450\n",
      "Epoch 2/30\n",
      "100/100 [==============================] - 7s 74ms/step - loss: 0.5720 - acc: 0.7095 - val_loss: 0.4860 - val_acc: 0.7725\n",
      "Epoch 3/30\n",
      "100/100 [==============================] - 7s 74ms/step - loss: 0.5637 - acc: 0.7055 - val_loss: 0.4841 - val_acc: 0.7450\n",
      "Epoch 4/30\n",
      "100/100 [==============================] - 7s 73ms/step - loss: 0.5543 - acc: 0.7105 - val_loss: 0.4681 - val_acc: 0.7825\n",
      "Epoch 5/30\n",
      "100/100 [==============================] - 7s 74ms/step - loss: 0.5362 - acc: 0.7375 - val_loss: 0.5093 - val_acc: 0.7500\n",
      "Epoch 6/30\n",
      "100/100 [==============================] - 7s 74ms/step - loss: 0.5475 - acc: 0.7205 - val_loss: 0.4529 - val_acc: 0.7700\n",
      "Epoch 7/30\n",
      "100/100 [==============================] - 8s 75ms/step - loss: 0.5442 - acc: 0.7300 - val_loss: 0.4375 - val_acc: 0.8075\n",
      "Epoch 8/30\n",
      "100/100 [==============================] - 8s 76ms/step - loss: 0.5213 - acc: 0.7490 - val_loss: 0.4279 - val_acc: 0.7950\n",
      "Epoch 9/30\n",
      "100/100 [==============================] - 8s 78ms/step - loss: 0.5149 - acc: 0.7370 - val_loss: 0.4329 - val_acc: 0.7925\n",
      "Epoch 10/30\n",
      "100/100 [==============================] - 8s 80ms/step - loss: 0.5159 - acc: 0.7395 - val_loss: 0.4342 - val_acc: 0.8025\n",
      "Epoch 11/30\n",
      "100/100 [==============================] - 8s 81ms/step - loss: 0.5066 - acc: 0.7570 - val_loss: 0.4404 - val_acc: 0.7800\n",
      "Epoch 12/30\n",
      "100/100 [==============================] - 8s 82ms/step - loss: 0.4861 - acc: 0.7660 - val_loss: 0.4259 - val_acc: 0.8150\n",
      "Epoch 13/30\n",
      "100/100 [==============================] - 8s 84ms/step - loss: 0.5049 - acc: 0.7560 - val_loss: 0.5730 - val_acc: 0.7375\n",
      "Epoch 14/30\n",
      "100/100 [==============================] - 9s 85ms/step - loss: 0.5002 - acc: 0.7575 - val_loss: 0.4086 - val_acc: 0.8175\n",
      "Epoch 15/30\n",
      "100/100 [==============================] - 9s 86ms/step - loss: 0.5081 - acc: 0.7455 - val_loss: 0.4713 - val_acc: 0.7675\n",
      "Epoch 16/30\n",
      "100/100 [==============================] - 9s 87ms/step - loss: 0.5100 - acc: 0.7450 - val_loss: 0.4272 - val_acc: 0.8025\n",
      "Epoch 17/30\n",
      "100/100 [==============================] - 9s 88ms/step - loss: 0.5045 - acc: 0.7475 - val_loss: 0.4079 - val_acc: 0.8150\n",
      "Epoch 18/30\n",
      "100/100 [==============================] - 9s 89ms/step - loss: 0.4886 - acc: 0.7620 - val_loss: 0.4460 - val_acc: 0.7900\n",
      "Epoch 19/30\n",
      "100/100 [==============================] - 9s 89ms/step - loss: 0.4842 - acc: 0.7660 - val_loss: 0.4137 - val_acc: 0.8075\n",
      "Epoch 20/30\n",
      "100/100 [==============================] - 9s 90ms/step - loss: 0.4849 - acc: 0.7645 - val_loss: 0.4172 - val_acc: 0.8250\n",
      "Epoch 21/30\n",
      "100/100 [==============================] - 9s 90ms/step - loss: 0.4821 - acc: 0.7640 - val_loss: 0.4077 - val_acc: 0.8275\n",
      "Epoch 22/30\n",
      "100/100 [==============================] - 9s 89ms/step - loss: 0.4708 - acc: 0.7700 - val_loss: 0.4141 - val_acc: 0.7975\n",
      "Epoch 23/30\n",
      "100/100 [==============================] - 9s 90ms/step - loss: 0.4503 - acc: 0.7805 - val_loss: 0.4522 - val_acc: 0.7825\n",
      "Epoch 24/30\n",
      "100/100 [==============================] - 9s 91ms/step - loss: 0.4616 - acc: 0.7835 - val_loss: 0.4688 - val_acc: 0.7825\n",
      "Epoch 25/30\n",
      "100/100 [==============================] - 9s 91ms/step - loss: 0.4767 - acc: 0.7760 - val_loss: 0.4427 - val_acc: 0.7925\n",
      "Epoch 26/30\n",
      "100/100 [==============================] - 9s 91ms/step - loss: 0.4412 - acc: 0.8000 - val_loss: 0.3997 - val_acc: 0.8150\n",
      "Epoch 27/30\n",
      "100/100 [==============================] - 9s 91ms/step - loss: 0.4628 - acc: 0.7700 - val_loss: 0.4118 - val_acc: 0.8100\n",
      "Epoch 28/30\n",
      "100/100 [==============================] - 9s 91ms/step - loss: 0.4779 - acc: 0.7655 - val_loss: 0.3877 - val_acc: 0.8300\n",
      "Epoch 29/30\n",
      "100/100 [==============================] - 9s 91ms/step - loss: 0.4645 - acc: 0.7740 - val_loss: 0.5034 - val_acc: 0.7450\n",
      "Epoch 30/30\n",
      "100/100 [==============================] - 9s 92ms/step - loss: 0.4669 - acc: 0.7825 - val_loss: 0.4147 - val_acc: 0.8300\n"
     ]
    }
   ],
   "source": [
    "# Add data augmentation to the model setup and set the model to train; \n",
    "# See warnings above if you intend to run this block of code \n",
    "# ⏰ This cell may take several hours to run \n",
    "start = datetime.datetime.now()\n",
    "\n",
    "train_datagen = ImageDataGenerator(rescale=1./255,\n",
    "                                   rotation_range=40, \n",
    "                                   width_shift_range=0.2, \n",
    "                                   height_shift_range=0.2, \n",
    "                                   shear_range=0.2, \n",
    "                                   zoom_range=0.2, \n",
    "                                   horizontal_flip=True, \n",
    "                                   fill_mode='nearest')\n",
    "\n",
    "train_generator = train_datagen.flow_from_directory(\n",
    "        # This is the target directory\n",
    "        train_dir,\n",
    "        # All images will be resized to 150x150\n",
    "        target_size=(150, 150),\n",
    "        batch_size=20,\n",
    "        # Since we use binary_crossentropy loss, we need binary labels\n",
    "        class_mode='binary')\n",
    "\n",
    "history = model.fit(train_generator, \n",
    "                              steps_per_epoch=100, \n",
    "                              epochs=30, \n",
    "                              validation_data=validation_generator, \n",
    "                              validation_steps=20)"
   ]
  },
  {
   "cell_type": "code",
   "execution_count": 13,
   "metadata": {},
   "outputs": [
    {
     "data": {
      "image/png": "[encoded data removed]",
      "text/plain": [
       "<Figure size 432x288 with 1 Axes>"
      ]
     },
     "metadata": {
      "needs_background": "light"
     },
     "output_type": "display_data"
    },
    {
     "data": {
      "image/png": "[encoded data removed]",
      "text/plain": [
       "<Figure size 432x288 with 1 Axes>"
      ]
     },
     "metadata": {
      "needs_background": "light"
     },
     "output_type": "display_data"
    }
   ],
   "source": [
    "acc = history.history['acc']\n",
    "val_acc = history.history['val_acc']\n",
    "loss = history.history['loss']\n",
    "val_loss = history.history['val_loss']\n",
    "epochs = range(len(acc))\n",
    "plt.plot(epochs, acc, 'bo', label='Training acc')\n",
    "plt.plot(epochs, val_acc, 'b', label='Validation acc')\n",
    "plt.title('Training and validation accuracy')\n",
    "plt.legend()\n",
    "plt.figure()\n",
    "plt.plot(epochs, loss, 'bo', label='Training loss')\n",
    "plt.plot(epochs, val_loss, 'b', label='Validation loss')\n",
    "plt.title('Training and validation loss')\n",
    "plt.legend()\n",
    "plt.show()\n"
   ]
  },
  {
   "cell_type": "code",
   "execution_count": 14,
   "metadata": {},
   "outputs": [
    {
     "name": "stdout",
     "output_type": "stream",
     "text": [
      "Training with data augmentation took a total of 0:05:05.311756\n"
     ]
    }
   ],
   "source": [
    "end = datetime.datetime.now()\n",
    "elapsed = end - start\n",
    "print('Training with data augmentation took a total of {}'.format(elapsed))\n"
   ]
  },
  {
   "cell_type": "markdown",
   "metadata": {},
   "source": [
    "Save the model for future reference.  "
   ]
  },
  {
   "cell_type": "code",
   "execution_count": 15,
   "metadata": {},
   "outputs": [],
   "source": [
    "# Save the model \n",
    "model.save('cats_dogs_downsampled_with_augmentation_data.h5')"
   ]
  },
  {
   "cell_type": "markdown",
   "metadata": {},
   "source": [
    "## Final Evaluation\n",
    "\n",
    "Now use the test set to perform a final evaluation on your model of choice. "
   ]
  },
  {
   "cell_type": "code",
   "execution_count": 16,
   "metadata": {},
   "outputs": [
    {
     "name": "stdout",
     "output_type": "stream",
     "text": [
      "Found 425 images belonging to 2 classes.\n",
      "20/20 [==============================] - 1s 29ms/step - loss: 0.4525 - acc: 0.7975\n",
      "test acc: 0.79749995470047\n"
     ]
    }
   ],
   "source": [
    "# Your code here \n",
    "# Perform a final evaluation using the test set\n",
    "test_datagen = ImageDataGenerator(rescale=1./255)\n",
    "\n",
    "test_generator = test_datagen.flow_from_directory(test_dir, \n",
    "                                                  target_size=(150, 150), \n",
    "                                                  batch_size=20, \n",
    "                                                  class_mode='binary')\n",
    "test_loss, test_acc = model.evaluate(test_generator, steps=20)\n",
    "print('test acc:', test_acc)"
   ]
  },
  {
   "cell_type": "markdown",
   "metadata": {},
   "source": [
    "## Summary\n",
    "\n",
    "Well done! In this lab, you practice building your own CNN for image recognition which drastically outperformed our previous attempts using a standard deep learning model alone. In the upcoming sections, we'll continue to investigate further techniques associated with CNNs including visualizing the representations they learn and techniques to further bolster their performance when we have limited training data such as here."
   ]
  }
 ],
 "metadata": {
  "kernelspec": {
   "display_name": "Python 3.9 (tensorflow)",
   "language": "python",
   "name": "tensorflow"
  },
  "language_info": {
   "codemirror_mode": {
    "name": "ipython",
    "version": 3
   },
   "file_extension": ".py",
   "mimetype": "text/x-python",
   "name": "python",
   "nbconvert_exporter": "python",
   "pygments_lexer": "ipython3",
   "version": "3.9.13"
  },
  "toc": {
   "base_numbering": 1,
   "nav_menu": {},
   "number_sections": true,
   "sideBar": true,
   "skip_h1_title": false,
   "title_cell": "Table of Contents",
   "title_sidebar": "Contents",
   "toc_cell": false,
   "toc_position": {},
   "toc_section_display": true,
   "toc_window_display": false
  }
 },
 "nbformat": 4,
 "nbformat_minor": 2
}
